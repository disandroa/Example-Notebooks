{
 "cells": [
  {
   "cell_type": "markdown",
   "metadata": {},
   "source": [
    "# Contour Plot of ASV\n",
    "*Akira Di Sandro, 6/25/20*\n",
    "<br>\n",
    "In this notebook, I will be making a contour plot of the ASV (along strait velocity) using Marion's file 'SolomonStrait_westernXsection_linear2bot_sat4surf.mat'."
   ]
  },
  {
   "cell_type": "markdown",
   "metadata": {},
   "source": [
    "## 1. Load in Data"
   ]
  },
  {
   "cell_type": "code",
   "execution_count": 91,
   "metadata": {},
   "outputs": [],
   "source": [
    "import numpy as np\n",
    "import pandas as pd\n",
    "import datetime as dt\n",
    "import matplotlib.pyplot as plt\n",
    "import random"
   ]
  },
  {
   "cell_type": "code",
   "execution_count": 92,
   "metadata": {},
   "outputs": [],
   "source": [
    "from scipy.io import loadmat\n",
    "x = loadmat('SolomonStrait_westernXsection_linear2bot_sat4surf.mat')"
   ]
  },
  {
   "cell_type": "markdown",
   "metadata": {},
   "source": [
    "## 2. Save Data into variables"
   ]
  },
  {
   "cell_type": "code",
   "execution_count": 24,
   "metadata": {},
   "outputs": [],
   "source": [
    "#along strait velocity saved in 255x99x590 matrix (depth x points along cross section x timestamps)\n",
    "asv = x['ASV']\n",
    "\n",
    "#lon: lon points along cross section, lat (same as lon), xdist: distance from start of cross section\n",
    "lon = x['bathy'][0][0][2][0]\n",
    "lat = x['bathy'][0][0][3][0]\n",
    "xdist = x['bathy'][0][0][4][0]\n",
    "points = np.arange(99)\n",
    "\n",
    "#raw_time: datenums associated to each day mooring data was taken\n",
    "raw_time = x['time'][0]\n",
    "\n",
    "#depth: array of all the depths possible\n",
    "depth = x['z']"
   ]
  },
  {
   "cell_type": "code",
   "execution_count": 78,
   "metadata": {},
   "outputs": [
    {
     "data": {
      "text/plain": [
       "array([  0.        ,   2.09695274,   4.19388381,   6.29079314,\n",
       "         8.38768068,  10.48454638,  12.58139017,  14.67821201,\n",
       "        16.77501185,  18.87178961,  20.96854526,  23.06527873,\n",
       "        25.16198996,  27.25867891,  29.35534552,  31.45198973,\n",
       "        33.54861149,  35.64521074,  37.74178743,  39.8383415 ,\n",
       "        41.9348729 ,  44.03138157,  46.12786745,  48.2243305 ,\n",
       "        50.32077065,  52.41718785,  54.51358204,  56.60995318,\n",
       "        58.7063012 ,  60.80262605,  62.89892767,  62.89892767,\n",
       "        64.92249673,  66.94606674,  68.96963768,  70.99320957,\n",
       "        73.01678241,  75.04035618,  77.0639309 ,  79.08750656,\n",
       "        81.11108317,  83.13466071,  85.1582392 ,  87.18181863,\n",
       "        89.205399  ,  91.22898032,  93.25256258,  95.27614578,\n",
       "        97.29972992,  99.323315  , 101.34690103, 103.370488  ,\n",
       "       105.39407591, 107.41766476, 109.44125455, 111.46484529,\n",
       "       113.48843696, 115.51202958, 117.53562314, 119.55921764,\n",
       "       121.58281309, 123.60640947, 125.6300068 , 127.65360506,\n",
       "       129.67720427, 131.70080442, 133.72440551, 135.74800754,\n",
       "       137.77161052, 139.79521443, 141.81881928, 143.84242508,\n",
       "       145.86603182, 147.88963949, 149.91324811, 151.93685767,\n",
       "       153.96046817, 155.98407961, 158.00769199, 160.03130531,\n",
       "       162.05491957, 164.07853477, 166.10215091, 168.12576799,\n",
       "       170.14938601, 172.17300498, 174.19662488, 176.22024572,\n",
       "       178.2438675 , 180.26749022, 182.29111389, 184.31473849,\n",
       "       186.33836403, 188.36199051, 190.38561793, 192.40924629,\n",
       "       194.43287559, 196.45650583, 198.48013701])"
      ]
     },
     "execution_count": 78,
     "metadata": {},
     "output_type": "execute_result"
    }
   ],
   "source": [
    "x_dist = x['bathy'][0][0]['dist'][0]\n",
    "x_dist"
   ]
  },
  {
   "cell_type": "markdown",
   "metadata": {},
   "source": [
    "Convert datenum to timestamps python can understand."
   ]
  },
  {
   "cell_type": "code",
   "execution_count": 9,
   "metadata": {},
   "outputs": [],
   "source": [
    "# this code reads matlab datenums and returns it in a datetime vector. \n",
    "def matlab2datetime(matlab_datenum):\n",
    "    day = dt.datetime.fromordinal(int(matlab_datenum))\n",
    "    dayfrac = dt.timedelta(days=matlab_datenum%1) - dt.timedelta(days = 366)\n",
    "    return day + dayfrac"
   ]
  },
  {
   "cell_type": "code",
   "execution_count": 12,
   "metadata": {},
   "outputs": [],
   "source": [
    "times = []\n",
    "\n",
    "for time in raw_time:\n",
    "    times = np.concatenate([times, [matlab2datetime(int(time))]])"
   ]
  },
  {
   "cell_type": "code",
   "execution_count": 105,
   "metadata": {},
   "outputs": [
    {
     "data": {
      "text/plain": [
       "array([[nan, nan, nan, ..., nan, nan, nan],\n",
       "       [nan, nan, nan, ..., nan, nan, nan],\n",
       "       [nan, nan, nan, ..., nan, nan, nan],\n",
       "       ...,\n",
       "       [nan, nan, nan, ..., nan, nan, nan],\n",
       "       [nan, nan, nan, ..., nan, nan, nan],\n",
       "       [nan, nan, nan, ..., nan, nan, nan]])"
      ]
     },
     "execution_count": 105,
     "metadata": {},
     "output_type": "execute_result"
    }
   ],
   "source": []
  },
  {
   "cell_type": "code",
   "execution_count": null,
   "metadata": {},
   "outputs": [],
   "source": []
  },
  {
   "cell_type": "markdown",
   "metadata": {},
   "source": [
    "## 3. Attempt first plot\n",
    "I'm taking a snapshot of time to do a contour plot of ASV."
   ]
  },
  {
   "cell_type": "code",
   "execution_count": 106,
   "metadata": {},
   "outputs": [
    {
     "data": {
      "text/plain": [
       "(225, 99)"
      ]
     },
     "execution_count": 106,
     "metadata": {},
     "output_type": "execute_result"
    }
   ],
   "source": [
    "# change nan's to zeros (?) for now\n",
    "time0 = asv[:,:,0]\n",
    "time0.shape\n",
    "#nan_in_time0 = np.isnan(time0)\n",
    "#time0[nan_in_time0] = 0\n",
    "#time0.shape"
   ]
  },
  {
   "cell_type": "code",
   "execution_count": 107,
   "metadata": {
    "scrolled": false
   },
   "outputs": [
    {
     "data": {
      "text/plain": [
       "<matplotlib.colorbar.Colorbar at 0xb3ac65d30>"
      ]
     },
     "execution_count": 107,
     "metadata": {},
     "output_type": "execute_result"
    },
    {
     "data": {
      "image/png": "[encoded data removed]",
      "text/plain": [
       "<Figure size 432x288 with 2 Axes>"
      ]
     },
     "metadata": {
      "needs_background": "light"
     },
     "output_type": "display_data"
    }
   ],
   "source": [
    "plt.pcolormesh(x_dist, depth, time0, cmap='coolwarm', vmin='-0.6', vmax='0.6')\n",
    "plt.gca().invert_yaxis()\n",
    "plt.colorbar()\n",
    "# start with just time0 and try adding the coordinates\n",
    "# flip y-axis and change color, add colorbar\n",
    "# most of the interesting stuff is happening at top 2000m"
   ]
  },
  {
   "cell_type": "markdown",
   "metadata": {},
   "source": [
    "## 4. Average ASV plot"
   ]
  },
  {
   "cell_type": "code",
   "execution_count": 183,
   "metadata": {},
   "outputs": [],
   "source": [
    "# use asv = x['ASV'] as ds in this function\n",
    "def avg_times(ds):\n",
    "    avg = []\n",
    "    lengths = ds.shape\n",
    "    num = lengths[2] # num is 590, number of time steps stored\n",
    "    for i in range(num):\n",
    "        if i == 0:\n",
    "            avg = ds[:,:,0]\n",
    "        else:\n",
    "            avg = np.add(avg, ds[:,:,i]) \n",
    "    avg = avg/num\n",
    "    return avg"
   ]
  },
  {
   "cell_type": "code",
   "execution_count": 184,
   "metadata": {
    "scrolled": true
   },
   "outputs": [
    {
     "data": {
      "text/plain": [
       "array([[ 0.        ,  0.        , -0.28137913, ...,  0.00322807,\n",
       "         0.        ,  0.        ],\n",
       "       [        nan,  0.        , -0.21167181, ...,         nan,\n",
       "                nan,         nan],\n",
       "       [        nan,         nan,  0.        , ...,         nan,\n",
       "                nan,         nan],\n",
       "       ...,\n",
       "       [        nan,         nan,         nan, ...,         nan,\n",
       "                nan,         nan],\n",
       "       [        nan,         nan,         nan, ...,         nan,\n",
       "                nan,         nan],\n",
       "       [        nan,         nan,         nan, ...,         nan,\n",
       "                nan,         nan]])"
      ]
     },
     "execution_count": 184,
     "metadata": {},
     "output_type": "execute_result"
    }
   ],
   "source": [
    "avg_time = avg_times(asv)\n",
    "avg_time"
   ]
  },
  {
   "cell_type": "code",
   "execution_count": 185,
   "metadata": {},
   "outputs": [
    {
     "data": {
      "text/plain": [
       "<matplotlib.colorbar.Colorbar at 0xb41700780>"
      ]
     },
     "execution_count": 185,
     "metadata": {},
     "output_type": "execute_result"
    },
    {
     "data": {
      "image/png": "[encoded data removed]",
      "text/plain": [
       "<Figure size 432x288 with 2 Axes>"
      ]
     },
     "metadata": {
      "needs_background": "light"
     },
     "output_type": "display_data"
    }
   ],
   "source": [
    "plt.pcolormesh(x_dist, depth, avg_time, cmap='coolwarm', vmin='-0.6', vmax='0.6')\n",
    "plt.gca().invert_yaxis()\n",
    "plt.colorbar()"
   ]
  },
  {
   "cell_type": "raw",
   "metadata": {},
   "source": [
    "holoviews, mayavi, packages to animate plots"
   ]
  },
  {
   "cell_type": "markdown",
   "metadata": {},
   "source": [
    "### This is just example code I used to understand how to use pcolor"
   ]
  },
  {
   "cell_type": "code",
   "execution_count": 87,
   "metadata": {},
   "outputs": [],
   "source": [
    "def test_pcolor_datetime_axis():\n",
    "    fig = plt.figure()\n",
    "    fig.subplots_adjust(hspace=0.4, top=0.98, bottom=.15)\n",
    "    base = dt.datetime(2013, 1, 1)\n",
    "    x = np.array([base + dt.timedelta(days=d) for d in range(21)])\n",
    "    y = np.arange(21)\n",
    "    z1, z2 = np.meshgrid(np.arange(20), np.arange(20))\n",
    "    z = z1 * z2\n",
    "    plt.subplot(221)\n",
    "    plt.pcolor(x[:-1], y[:-1], z)\n",
    "    plt.subplot(222)\n",
    "    plt.pcolor(x, y, z)\n",
    "    x = np.repeat(x[np.newaxis], 21, axis=0)\n",
    "    y = np.repeat(y[:, np.newaxis], 21, axis=1)\n",
    "    plt.subplot(223)\n",
    "    plt.pcolor(x[:-1, :-1], y[:-1, :-1], z)\n",
    "    plt.subplot(224)\n",
    "    plt.pcolor(x, y, z)\n",
    "    #plt.colorbar()\n",
    "    for ax in fig.get_axes():\n",
    "        for label in ax.get_xticklabels():\n",
    "            label.set_ha('right')\n",
    "            label.set_rotation(30) "
   ]
  },
  {
   "cell_type": "code",
   "execution_count": 88,
   "metadata": {},
   "outputs": [
    {
     "data": {
      "image/png": "[encoded data removed]",
      "text/plain": [
       "<Figure size 432x288 with 4 Axes>"
      ]
     },
     "metadata": {
      "needs_background": "light"
     },
     "output_type": "display_data"
    }
   ],
   "source": [
    "test_pcolor_datetime_axis()"
   ]
  },
  {
   "cell_type": "code",
   "execution_count": null,
   "metadata": {},
   "outputs": [],
   "source": []
  }
 ],
 "metadata": {
  "kernelspec": {
   "display_name": "Python 3",
   "language": "python",
   "name": "python3"
  },
  "language_info": {
   "codemirror_mode": {
    "name": "ipython",
    "version": 3
   },
   "file_extension": ".py",
   "mimetype": "text/x-python",
   "name": "python",
   "nbconvert_exporter": "python",
   "pygments_lexer": "ipython3",
   "version": "3.7.1"
  }
 },
 "nbformat": 4,
 "nbformat_minor": 2
}
