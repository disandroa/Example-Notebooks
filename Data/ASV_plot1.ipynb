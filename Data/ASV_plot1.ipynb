{
 "cells": [
  {
   "cell_type": "markdown",
   "metadata": {},
   "source": [
    "# Contour Plot of ASV\n",
    "*Akira Di Sandro, 6/25/20*\n",
    "<br>\n",
    "In this notebook, I will be making a contour plot of the ASV (along strait velocity) using Marion's file 'SolomonStrait_westernXsection_linear2bot_sat4surf.mat'."
   ]
  },
  {
   "cell_type": "markdown",
   "metadata": {},
   "source": [
    "## 1. Load in Data"
   ]
  },
  {
   "cell_type": "code",
   "execution_count": 8,
   "metadata": {},
   "outputs": [],
   "source": [
    "import numpy as np\n",
    "import pandas as pd\n",
    "import datetime as dt\n",
    "import matplotlib.pyplot as plt\n",
    "import random"
   ]
  },
  {
   "cell_type": "code",
   "execution_count": 1,
   "metadata": {},
   "outputs": [],
   "source": [
    "from scipy.io import loadmat\n",
    "x = loadmat('SolomonStrait_westernXsection_linear2bot_sat4surf.mat')"
   ]
  },
  {
   "cell_type": "markdown",
   "metadata": {},
   "source": [
    "## 2. Save Data into variables"
   ]
  },
  {
   "cell_type": "code",
   "execution_count": 24,
   "metadata": {},
   "outputs": [],
   "source": [
    "#along strait velocity saved in 255x99x590 matrix (depth x points along cross section x timestamps)\n",
    "asv = x['ASV']\n",
    "\n",
    "#lon: lon points along cross section, lat (same as lon), xdist: distance from start of cross section\n",
    "lon = x['bathy'][0][0][2][0]\n",
    "lat = x['bathy'][0][0][3][0]\n",
    "xdist = x['bathy'][0][0][4][0]\n",
    "points = np.arange(99)\n",
    "\n",
    "#raw_time: datenums associated to each day mooring data was taken\n",
    "raw_time = x['time'][0]\n",
    "\n",
    "#depth: array of all the depths possible\n",
    "depth = x['z']"
   ]
  },
  {
   "cell_type": "code",
   "execution_count": 78,
   "metadata": {},
   "outputs": [
    {
     "data": {
      "text/plain": [
       "array([  0.        ,   2.09695274,   4.19388381,   6.29079314,\n",
       "         8.38768068,  10.48454638,  12.58139017,  14.67821201,\n",
       "        16.77501185,  18.87178961,  20.96854526,  23.06527873,\n",
       "        25.16198996,  27.25867891,  29.35534552,  31.45198973,\n",
       "        33.54861149,  35.64521074,  37.74178743,  39.8383415 ,\n",
       "        41.9348729 ,  44.03138157,  46.12786745,  48.2243305 ,\n",
       "        50.32077065,  52.41718785,  54.51358204,  56.60995318,\n",
       "        58.7063012 ,  60.80262605,  62.89892767,  62.89892767,\n",
       "        64.92249673,  66.94606674,  68.96963768,  70.99320957,\n",
       "        73.01678241,  75.04035618,  77.0639309 ,  79.08750656,\n",
       "        81.11108317,  83.13466071,  85.1582392 ,  87.18181863,\n",
       "        89.205399  ,  91.22898032,  93.25256258,  95.27614578,\n",
       "        97.29972992,  99.323315  , 101.34690103, 103.370488  ,\n",
       "       105.39407591, 107.41766476, 109.44125455, 111.46484529,\n",
       "       113.48843696, 115.51202958, 117.53562314, 119.55921764,\n",
       "       121.58281309, 123.60640947, 125.6300068 , 127.65360506,\n",
       "       129.67720427, 131.70080442, 133.72440551, 135.74800754,\n",
       "       137.77161052, 139.79521443, 141.81881928, 143.84242508,\n",
       "       145.86603182, 147.88963949, 149.91324811, 151.93685767,\n",
       "       153.96046817, 155.98407961, 158.00769199, 160.03130531,\n",
       "       162.05491957, 164.07853477, 166.10215091, 168.12576799,\n",
       "       170.14938601, 172.17300498, 174.19662488, 176.22024572,\n",
       "       178.2438675 , 180.26749022, 182.29111389, 184.31473849,\n",
       "       186.33836403, 188.36199051, 190.38561793, 192.40924629,\n",
       "       194.43287559, 196.45650583, 198.48013701])"
      ]
     },
     "execution_count": 78,
     "metadata": {},
     "output_type": "execute_result"
    }
   ],
   "source": [
    "x_dist = x['bathy'][0][0]['dist'][0]\n",
    "x_dist"
   ]
  },
  {
   "cell_type": "markdown",
   "metadata": {},
   "source": [
    "Convert datenum to timestamps python can understand."
   ]
  },
  {
   "cell_type": "code",
   "execution_count": 9,
   "metadata": {},
   "outputs": [],
   "source": [
    "# this code reads matlab datenums and returns it in a datetime vector. \n",
    "def matlab2datetime(matlab_datenum):\n",
    "    day = dt.datetime.fromordinal(int(matlab_datenum))\n",
    "    dayfrac = dt.timedelta(days=matlab_datenum%1) - dt.timedelta(days = 366)\n",
    "    return day + dayfrac"
   ]
  },
  {
   "cell_type": "code",
   "execution_count": 12,
   "metadata": {},
   "outputs": [],
   "source": [
    "times = []\n",
    "\n",
    "for time in raw_time:\n",
    "    times = np.concatenate([times, [matlab2datetime(int(time))]])"
   ]
  },
  {
   "cell_type": "code",
   "execution_count": 25,
   "metadata": {},
   "outputs": [
    {
     "data": {
      "text/plain": [
       "array([[        nan,         nan,         nan, ...,         nan,\n",
       "                nan,         nan],\n",
       "       [ 0.        ,  0.        ,  0.        , ...,  0.        ,\n",
       "         0.        ,  0.        ],\n",
       "       [-0.37691869, -0.35513538, -0.31889705, ..., -0.42223409,\n",
       "        -0.42243779, -0.41531144],\n",
       "       ...,\n",
       "       [ 0.01539843,  0.01400987,  0.01225329, ...,  0.03512788,\n",
       "         0.03109504,  0.02653325],\n",
       "       [ 0.        ,  0.        ,  0.        , ...,  0.        ,\n",
       "         0.        ,  0.        ],\n",
       "       [        nan,         nan,         nan, ...,         nan,\n",
       "                nan,         nan]])"
      ]
     },
     "execution_count": 25,
     "metadata": {},
     "output_type": "execute_result"
    }
   ],
   "source": [
    "asv[:][:][0]"
   ]
  },
  {
   "cell_type": "markdown",
   "metadata": {},
   "source": [
    "## 3. Attempt first plot\n",
    "I'm taking a snapshot of time to do a contour plot of ASV."
   ]
  },
  {
   "cell_type": "code",
   "execution_count": 63,
   "metadata": {},
   "outputs": [
    {
     "data": {
      "text/plain": [
       "(225, 99)"
      ]
     },
     "execution_count": 63,
     "metadata": {},
     "output_type": "execute_result"
    }
   ],
   "source": [
    "# change nan's to zeros (?) for now\n",
    "time0 = asv[:,:,0]\n",
    "time0.shape\n",
    "#nan_in_time0 = np.isnan(time0)\n",
    "#time0[nan_in_time0] = 0\n",
    "#time0.shape"
   ]
  },
  {
   "cell_type": "code",
   "execution_count": 86,
   "metadata": {
    "scrolled": true
   },
   "outputs": [
    {
     "data": {
      "text/plain": [
       "<matplotlib.colorbar.Colorbar at 0xb396e52e8>"
      ]
     },
     "execution_count": 86,
     "metadata": {},
     "output_type": "execute_result"
    },
    {
     "data": {
      "image/png": "[encoded data removed]",
      "text/plain": [
       "<Figure size 432x288 with 2 Axes>"
      ]
     },
     "metadata": {
      "needs_background": "light"
     },
     "output_type": "display_data"
    }
   ],
   "source": [
    "plt.pcolormesh(x_dist, depth, time0, cmap='coolwarm', vmin='-0.6', vmax='0.6')\n",
    "plt.gca().invert_yaxis()\n",
    "plt.colorbar()\n",
    "# start with just time0 and try adding the coordinates\n",
    "# flip y-axis and change color, add colorbar\n",
    "# most of the interesting stuff is happening at top 2000m"
   ]
  },
  {
   "cell_type": "raw",
   "metadata": {},
   "source": [
    "holoviews, mayavi, packages to animate plots"
   ]
  },
  {
   "cell_type": "code",
   "execution_count": 61,
   "metadata": {},
   "outputs": [
    {
     "data": {
      "text/plain": [
       "(225, 99, 590)"
      ]
     },
     "execution_count": 61,
     "metadata": {},
     "output_type": "execute_result"
    }
   ],
   "source": [
    "#use shape function\n",
    "asv.shape"
   ]
  },
  {
   "cell_type": "code",
   "execution_count": 59,
   "metadata": {},
   "outputs": [
    {
     "name": "stdout",
     "output_type": "stream",
     "text": [
      "Help on function pcolormesh in module matplotlib.pyplot:\n",
      "\n",
      "pcolormesh(*args, alpha=None, norm=None, cmap=None, vmin=None, vmax=None, shading='flat', antialiased=False, data=None, **kwargs)\n",
      "    Create a pseudocolor plot with a non-regular rectangular grid.\n",
      "    \n",
      "    Call signature::\n",
      "    \n",
      "        pcolor([X, Y,] C, **kwargs)\n",
      "    \n",
      "    *X* and *Y* can be used to specify the corners of the quadrilaterals.\n",
      "    \n",
      "    .. note::\n",
      "    \n",
      "       ``pcolormesh()`` is similar to :func:`~Axes.pcolor`. It's much\n",
      "       faster and preferred in most cases. For a detailed discussion on\n",
      "       the differences see\n",
      "       :ref:`Differences between pcolor() and pcolormesh()\n",
      "       <differences-pcolor-pcolormesh>`.\n",
      "    \n",
      "    Parameters\n",
      "    ----------\n",
      "    C : array_like\n",
      "        A scalar 2-D array. The values will be color-mapped.\n",
      "    \n",
      "    X, Y : array_like, optional\n",
      "        The coordinates of the quadrilateral corners. The quadrilateral\n",
      "        for ``C[i,j]`` has corners at::\n",
      "    \n",
      "            (X[i+1, j], Y[i+1, j])          (X[i+1, j+1], Y[i+1, j+1])\n",
      "                                  +--------+\n",
      "                                  | C[i,j] |\n",
      "                                  +--------+\n",
      "                (X[i, j], Y[i, j])          (X[i, j+1], Y[i, j+1]),\n",
      "    \n",
      "        Note that the column index corresponds to the\n",
      "        x-coordinate, and the row index corresponds to y. For\n",
      "        details, see the :ref:`Notes <axes-pcolormesh-grid-orientation>`\n",
      "        section below.\n",
      "    \n",
      "        The dimensions of *X* and *Y* should be one greater than those of\n",
      "        *C*. Alternatively, *X*, *Y* and *C* may have equal dimensions, in\n",
      "        which case the last row and column of *C* will be ignored.\n",
      "    \n",
      "        If *X* and/or *Y* are 1-D arrays or column vectors they will be\n",
      "        expanded as needed into the appropriate 2-D arrays, making a\n",
      "        rectangular grid.\n",
      "    \n",
      "    cmap : str or `~matplotlib.colors.Colormap`, optional\n",
      "        A Colormap instance or registered colormap name. The colormap\n",
      "        maps the *C* values to colors. Defaults to :rc:`image.cmap`.\n",
      "    \n",
      "    norm : `~matplotlib.colors.Normalize`, optional\n",
      "        The Normalize instance scales the data values to the canonical\n",
      "        colormap range [0, 1] for mapping to colors. By default, the data\n",
      "        range is mapped to the colorbar range using linear scaling.\n",
      "    \n",
      "    vmin, vmax : scalar, optional, default: None\n",
      "        The colorbar range. If *None*, suitable min/max values are\n",
      "        automatically chosen by the `~.Normalize` instance (defaults to\n",
      "        the respective min/max values of *C* in case of the default linear\n",
      "        scaling).\n",
      "    \n",
      "    edgecolors : {'none', None, 'face', color, color sequence}, optional\n",
      "        The color of the edges. Defaults to 'none'. Possible values:\n",
      "    \n",
      "        - 'none' or '': No edge.\n",
      "        - *None*: :rc:`patch.edgecolor` will be used. Note that currently\n",
      "          :rc:`patch.force_edgecolor` has to be True for this to work.\n",
      "        - 'face': Use the adjacent face color.\n",
      "        - An mpl color or sequence of colors will set the edge color.\n",
      "    \n",
      "        The singular form *edgecolor* works as an alias.\n",
      "    \n",
      "    alpha : scalar, optional, default: None\n",
      "        The alpha blending value, between 0 (transparent) and 1 (opaque).\n",
      "    \n",
      "    shading : {'flat', 'gouraud'}, optional\n",
      "        The fill style, Possible values:\n",
      "    \n",
      "        - 'flat': A solid color is used for each quad. The color of the\n",
      "          quad (i, j), (i+1, j), (i, j+1), (i+1, j+1) is given by\n",
      "          ``C[i,j]``.\n",
      "        - 'gouraud': Each quad will be Gouraud shaded: The color of the\n",
      "          corners (i', j') are given by ``C[i',j']``. The color values of\n",
      "          the area in between is interpolated from the corner values.\n",
      "          When Gouraud shading is used, *edgecolors* is ignored.\n",
      "    \n",
      "    snap : bool, optional, default: False\n",
      "        Whether to snap the mesh to pixel boundaries.\n",
      "    \n",
      "    Returns\n",
      "    -------\n",
      "    mesh : `matplotlib.collections.QuadMesh`\n",
      "    \n",
      "    Other Parameters\n",
      "    ----------------\n",
      "    **kwargs\n",
      "        Additionally, the following arguments are allowed. They are passed\n",
      "        along to the `~matplotlib.collections.QuadMesh` constructor:\n",
      "    \n",
      "      agg_filter: a filter function, which takes a (m, n, 3) float array and a dpi value, and returns a (m, n, 3) array \n",
      "      alpha: float or None\n",
      "      animated: bool\n",
      "      antialiased: bool or sequence of bools\n",
      "      array: ndarray\n",
      "      capstyle: {'butt', 'round', 'projecting'}\n",
      "      clim: a length 2 sequence of floats; may be overridden in methods that have ``vmin`` and ``vmax`` kwargs. \n",
      "      clip_box: `.Bbox`\n",
      "      clip_on: bool\n",
      "      clip_path: [(`~matplotlib.path.Path`, `.Transform`) | `.Patch` | None] \n",
      "      cmap: colormap or registered colormap name\n",
      "      color: matplotlib color arg or sequence of rgba tuples\n",
      "      contains: callable\n",
      "      edgecolor: color or sequence of colors\n",
      "      facecolor: color or sequence of colors\n",
      "      figure: `.Figure`\n",
      "      gid: str\n",
      "      hatch: {'/', '\\\\', '|', '-', '+', 'x', 'o', 'O', '.', '*'}\n",
      "      in_layout: bool\n",
      "      joinstyle: {'miter', 'round', 'bevel'}\n",
      "      label: object\n",
      "      linestyle: {'-', '--', '-.', ':', '', (offset, on-off-seq), ...}\n",
      "      linewidth: float or sequence of floats\n",
      "      norm: `.Normalize`\n",
      "      offset_position: {'screen', 'data'}\n",
      "      offsets: float or sequence of floats\n",
      "      path_effects: `.AbstractPathEffect`\n",
      "      picker: None or bool or float or callable\n",
      "      pickradius: unknown\n",
      "      rasterized: bool or None\n",
      "      sketch_params: (scale: float, length: float, randomness: float) \n",
      "      snap: bool or None\n",
      "      transform: `.Transform`\n",
      "      url: str\n",
      "      urls: List[str] or None\n",
      "      visible: bool\n",
      "      zorder: float\n",
      "    \n",
      "    \n",
      "    See Also\n",
      "    --------\n",
      "    pcolor : An alternative implementation with slightly different\n",
      "        features. For a detailed discussion on the differences see\n",
      "        :ref:`Differences between pcolor() and pcolormesh()\n",
      "        <differences-pcolor-pcolormesh>`.\n",
      "    imshow : If *X* and *Y* are each equidistant, `~.Axes.imshow` can be a\n",
      "        faster alternative.\n",
      "    \n",
      "    Notes\n",
      "    -----\n",
      "    \n",
      "    **Masked arrays**\n",
      "    \n",
      "    *C* may be a masked array. If ``C[i, j]`` is masked, the corresponding\n",
      "    quadrilateral will be transparent. Masking of *X* and *Y* is not\n",
      "    supported. Use `~.Axes.pcolor` if you need this functionality.\n",
      "    \n",
      "    .. _axes-pcolormesh-grid-orientation:\n",
      "    \n",
      "    **Grid orientation**\n",
      "    \n",
      "    The grid orientation follows the standard matrix convention: An array\n",
      "    *C* with shape (nrows, ncolumns) is plotted with the column number as\n",
      "    *X* and the row number as *Y*.\n",
      "    \n",
      "    .. _differences-pcolor-pcolormesh:\n",
      "    \n",
      "    **Differences between pcolor() and pcolormesh()**\n",
      "    \n",
      "    Both methods are used to create a pseudocolor plot of a 2-D array\n",
      "    using quadrilaterals.\n",
      "    \n",
      "    The main difference lies in the created object and internal data\n",
      "    handling:\n",
      "    While `~.Axes.pcolor` returns a `.PolyCollection`, `~.Axes.pcolormesh`\n",
      "    returns a `.QuadMesh`. The latter is more specialized for the given\n",
      "    purpose and thus is faster. It should almost always be preferred.\n",
      "    \n",
      "    There is also a slight difference in the handling of masked arrays.\n",
      "    Both `~.Axes.pcolor` and `~.Axes.pcolormesh` support masked arrays\n",
      "    for *C*. However, only `~.Axes.pcolor` supports masked arrays for *X*\n",
      "    and *Y*. The reason lies in the internal handling of the masked values.\n",
      "    `~.Axes.pcolor` leaves out the respective polygons from the\n",
      "    PolyCollection. `~.Axes.pcolormesh` sets the facecolor of the masked\n",
      "    elements to transparent. You can see the difference when using\n",
      "    edgecolors. While all edges are drawn irrespective of masking in a\n",
      "    QuadMesh, the edge between two adjacent masked quadrilaterals in\n",
      "    `~.Axes.pcolor` is not drawn as the corresponding polygons do not\n",
      "    exist in the PolyCollection.\n",
      "    \n",
      "    Another difference is the support of Gouraud shading in\n",
      "    `~.Axes.pcolormesh`, which is not available with `~.Axes.pcolor`.\n",
      "    \n",
      "    .. note::\n",
      "        In addition to the above described arguments, this function can take a\n",
      "        **data** keyword argument. If such a **data** argument is given, the\n",
      "        following arguments are replaced by **data[<arg>]**:\n",
      "    \n",
      "        * All positional and all keyword arguments.\n",
      "    \n",
      "        Objects passed as **data** must support item access (``data[<arg>]``) and\n",
      "        membership test (``<arg> in data``).\n",
      "\n"
     ]
    }
   ],
   "source": [
    "help(plt.pcolormesh)"
   ]
  },
  {
   "cell_type": "code",
   "execution_count": 48,
   "metadata": {},
   "outputs": [
    {
     "name": "stdout",
     "output_type": "stream",
     "text": [
      "[[        nan         nan         nan ...         nan         nan\n",
      "          nan]\n",
      " [ 0.          0.          0.         ...  0.          0.\n",
      "   0.        ]\n",
      " [-0.37691869 -0.35513538 -0.31889705 ... -0.42223409 -0.42243779\n",
      "  -0.41531144]\n",
      " ...\n",
      " [ 0.01539843  0.01400987  0.01225329 ...  0.03512788  0.03109504\n",
      "   0.02653325]\n",
      " [ 0.          0.          0.         ...  0.          0.\n",
      "   0.        ]\n",
      " [        nan         nan         nan ...         nan         nan\n",
      "          nan]]\n"
     ]
    }
   ],
   "source": [
    "print(asv[:][:][0])"
   ]
  },
  {
   "cell_type": "code",
   "execution_count": 46,
   "metadata": {},
   "outputs": [],
   "source": [
    "def test_pcolor_datetime_axis():\n",
    "    fig = plt.figure()\n",
    "    fig.subplots_adjust(hspace=0.4, top=0.98, bottom=.15)\n",
    "    base = dt.datetime(2013, 1, 1)\n",
    "    x = np.array([base + dt.timedelta(days=d) for d in range(21)])\n",
    "    y = np.arange(21)\n",
    "    z1, z2 = np.meshgrid(np.arange(20), np.arange(20))\n",
    "    z = z1 * z2\n",
    "    print(z)\n",
    "    plt.subplot(221)\n",
    "    plt.pcolor(x[:-1], y[:-1], z)\n",
    "    plt.subplot(222)\n",
    "    plt.pcolor(x, y, z)\n",
    "    x = np.repeat(x[np.newaxis], 21, axis=0)\n",
    "    y = np.repeat(y[:, np.newaxis], 21, axis=1)\n",
    "    plt.subplot(223)\n",
    "    plt.pcolor(x[:-1, :-1], y[:-1, :-1], z)\n",
    "    plt.subplot(224)\n",
    "    plt.pcolor(x, y, z)\n",
    "    #plt.colorbar()\n",
    "    for ax in fig.get_axes():\n",
    "        for label in ax.get_xticklabels():\n",
    "            label.set_ha('right')\n",
    "            label.set_rotation(30) "
   ]
  },
  {
   "cell_type": "code",
   "execution_count": 47,
   "metadata": {},
   "outputs": [
    {
     "name": "stdout",
     "output_type": "stream",
     "text": [
      "[[  0   0   0   0   0   0   0   0   0   0   0   0   0   0   0   0   0   0\n",
      "    0   0]\n",
      " [  0   1   2   3   4   5   6   7   8   9  10  11  12  13  14  15  16  17\n",
      "   18  19]\n",
      " [  0   2   4   6   8  10  12  14  16  18  20  22  24  26  28  30  32  34\n",
      "   36  38]\n",
      " [  0   3   6   9  12  15  18  21  24  27  30  33  36  39  42  45  48  51\n",
      "   54  57]\n",
      " [  0   4   8  12  16  20  24  28  32  36  40  44  48  52  56  60  64  68\n",
      "   72  76]\n",
      " [  0   5  10  15  20  25  30  35  40  45  50  55  60  65  70  75  80  85\n",
      "   90  95]\n",
      " [  0   6  12  18  24  30  36  42  48  54  60  66  72  78  84  90  96 102\n",
      "  108 114]\n",
      " [  0   7  14  21  28  35  42  49  56  63  70  77  84  91  98 105 112 119\n",
      "  126 133]\n",
      " [  0   8  16  24  32  40  48  56  64  72  80  88  96 104 112 120 128 136\n",
      "  144 152]\n",
      " [  0   9  18  27  36  45  54  63  72  81  90  99 108 117 126 135 144 153\n",
      "  162 171]\n",
      " [  0  10  20  30  40  50  60  70  80  90 100 110 120 130 140 150 160 170\n",
      "  180 190]\n",
      " [  0  11  22  33  44  55  66  77  88  99 110 121 132 143 154 165 176 187\n",
      "  198 209]\n",
      " [  0  12  24  36  48  60  72  84  96 108 120 132 144 156 168 180 192 204\n",
      "  216 228]\n",
      " [  0  13  26  39  52  65  78  91 104 117 130 143 156 169 182 195 208 221\n",
      "  234 247]\n",
      " [  0  14  28  42  56  70  84  98 112 126 140 154 168 182 196 210 224 238\n",
      "  252 266]\n",
      " [  0  15  30  45  60  75  90 105 120 135 150 165 180 195 210 225 240 255\n",
      "  270 285]\n",
      " [  0  16  32  48  64  80  96 112 128 144 160 176 192 208 224 240 256 272\n",
      "  288 304]\n",
      " [  0  17  34  51  68  85 102 119 136 153 170 187 204 221 238 255 272 289\n",
      "  306 323]\n",
      " [  0  18  36  54  72  90 108 126 144 162 180 198 216 234 252 270 288 306\n",
      "  324 342]\n",
      " [  0  19  38  57  76  95 114 133 152 171 190 209 228 247 266 285 304 323\n",
      "  342 361]]\n"
     ]
    },
    {
     "data": {
      "image/png": "[encoded data removed]",
      "text/plain": [
       "<Figure size 432x288 with 4 Axes>"
      ]
     },
     "metadata": {
      "needs_background": "light"
     },
     "output_type": "display_data"
    }
   ],
   "source": [
    "test_pcolor_datetime_axis()"
   ]
  },
  {
   "cell_type": "code",
   "execution_count": null,
   "metadata": {},
   "outputs": [],
   "source": []
  }
 ],
 "metadata": {
  "kernelspec": {
   "display_name": "Python 3",
   "language": "python",
   "name": "python3"
  },
  "language_info": {
   "codemirror_mode": {
    "name": "ipython",
    "version": 3
   },
   "file_extension": ".py",
   "mimetype": "text/x-python",
   "name": "python",
   "nbconvert_exporter": "python",
   "pygments_lexer": "ipython3",
   "version": "3.7.1"
  }
 },
 "nbformat": 4,
 "nbformat_minor": 2
}
