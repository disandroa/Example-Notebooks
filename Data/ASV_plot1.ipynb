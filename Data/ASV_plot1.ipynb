{
 "cells": [
  {
   "cell_type": "markdown",
   "metadata": {},
   "source": [
    "# Contour Plot of ASV\n",
    "*Akira Di Sandro, 6/25/20*\n",
    "<br>\n",
    "In this notebook, I will be making a contour plot of the ASV (along strait velocity) using Marion's file 'SolomonStrait_westernXsection_linear2bot_sat4surf.mat'."
   ]
  },
  {
   "cell_type": "markdown",
   "metadata": {},
   "source": [
    "## 1. Load in Data"
   ]
  },
  {
   "cell_type": "code",
   "execution_count": 1,
   "metadata": {},
   "outputs": [],
   "source": [
    "from scipy.io import loadmat\n",
    "x = loadmat('SolomonStrait_westernXsection_linear2bot_sat4surf.mat')"
   ]
  },
  {
   "cell_type": "markdown",
   "metadata": {},
   "source": [
    "## 2. Save Data into variables"
   ]
  },
  {
   "cell_type": "code",
   "execution_count": 7,
   "metadata": {},
   "outputs": [],
   "source": [
    "#along strait velocity saved in 255x99x590 matrix (depth x points along cross section x timestamps)\n",
    "asv = x['ASV']\n",
    "\n",
    "#lon: lon points along cross section, lat (same as lon), xdist: distance from start of cross section\n",
    "lon = x['bathy'][0][0][2][0]\n",
    "lat = x['bathy'][0][0][3][0]\n",
    "xdist = x['bathy'][0][0][4][0]\n",
    "\n",
    "#raw_time: datenums associated to each day mooring data was taken\n",
    "raw_time = x['time'][0]"
   ]
  },
  {
   "cell_type": "code",
   "execution_count": null,
   "metadata": {},
   "outputs": [],
   "source": []
  },
  {
   "cell_type": "code",
   "execution_count": null,
   "metadata": {},
   "outputs": [],
   "source": []
  }
 ],
 "metadata": {
  "kernelspec": {
   "display_name": "Python 3",
   "language": "python",
   "name": "python3"
  },
  "language_info": {
   "codemirror_mode": {
    "name": "ipython",
    "version": 3
   },
   "file_extension": ".py",
   "mimetype": "text/x-python",
   "name": "python",
   "nbconvert_exporter": "python",
   "pygments_lexer": "ipython3",
   "version": "3.7.1"
  }
 },
 "nbformat": 4,
 "nbformat_minor": 2
}
