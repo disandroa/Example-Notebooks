{
 "cells": [
  {
   "cell_type": "markdown",
   "metadata": {},
   "source": [
    "# Plotting Timeseries for different Transport files from Observational Data\n",
    "*Akira Di Sandro, 6/24/20*\n",
    "<br>\n",
    "In this notebook, I will be plotting time series of transport averaged across all the files in Marion's observational data."
   ]
  },
  {
   "cell_type": "markdown",
   "metadata": {},
   "source": [
    "## 1.  Import packages and Load in data"
   ]
  },
  {
   "cell_type": "code",
   "execution_count": 23,
   "metadata": {},
   "outputs": [],
   "source": [
    "import numpy as np\n",
    "import pandas as pd\n",
    "import datetime as dt\n",
    "import matplotlib.pyplot as plt\n",
    "import random"
   ]
  },
  {
   "cell_type": "code",
   "execution_count": 4,
   "metadata": {},
   "outputs": [],
   "source": [
    "#!python\n",
    "#!/usr/bin/env python\n",
    "from scipy.io import loadmat\n",
    "x = loadmat('allTransport_SolomonStrait.mat')\n",
    "# one-liner to read a single variable\n",
    "#lon = loadmat('test.mat')['lon']"
   ]
  },
  {
   "cell_type": "markdown",
   "metadata": {},
   "source": [
    "## 2. Convert time stamps into legible and usable ones"
   ]
  },
  {
   "cell_type": "markdown",
   "metadata": {},
   "source": [
    "### a. Legible to humans"
   ]
  },
  {
   "cell_type": "code",
   "execution_count": 11,
   "metadata": {},
   "outputs": [],
   "source": [
    "datenums = x['time'][0]\n",
    "# this line below reads matlab datenums and returns datetime in human legible format\n",
    "timestamps = pd.to_datetime(datenums-719529, unit='D')"
   ]
  },
  {
   "cell_type": "markdown",
   "metadata": {},
   "source": [
    "### b. Timestamps in vector format for python"
   ]
  },
  {
   "cell_type": "code",
   "execution_count": 13,
   "metadata": {},
   "outputs": [],
   "source": [
    "# this code reads matlab datenums and returns it in a datetime vector. \n",
    "def matlab2datetime(matlab_datenum):\n",
    "    day = dt.datetime.fromordinal(int(matlab_datenum))\n",
    "    dayfrac = dt.timedelta(days=matlab_datenum%1) - dt.timedelta(days = 366)\n",
    "    return day + dayfrac"
   ]
  },
  {
   "cell_type": "code",
   "execution_count": 14,
   "metadata": {},
   "outputs": [],
   "source": [
    "py_dt = []\n",
    "\n",
    "for time in datenums:\n",
    "    py_dt = np.concatenate([py_dt, [matlab2datetime(int(time))]])\n",
    "#py_dt"
   ]
  },
  {
   "cell_type": "markdown",
   "metadata": {},
   "source": [
    "## 3. Plot Transport timeseries"
   ]
  },
  {
   "cell_type": "code",
   "execution_count": 19,
   "metadata": {},
   "outputs": [],
   "source": [
    "# create a function that takes in the dataset, selected array and time stamps to return a plot\n",
    "def plot_trans(ds, arr, times):\n",
    "    transport = ds[arr]\n",
    "    fig, ax = plt.subplots(figsize=(14,8))\n",
    "    ax.set_ylabel('Transport (Sv)')\n",
    "    ax.set_xlabel('Time')\n",
    "    ax.plot(times, transport)\n",
    "    ax.set_xlim(times[0], times[-1])\n",
    "    ax.grid(True)\n",
    "    plt.show()"
   ]
  },
  {
   "cell_type": "code",
   "execution_count": null,
   "metadata": {},
   "outputs": [],
   "source": []
  }
 ],
 "metadata": {
  "kernelspec": {
   "display_name": "Python 3",
   "language": "python",
   "name": "python3"
  },
  "language_info": {
   "codemirror_mode": {
    "name": "ipython",
    "version": 3
   },
   "file_extension": ".py",
   "mimetype": "text/x-python",
   "name": "python",
   "nbconvert_exporter": "python",
   "pygments_lexer": "ipython3",
   "version": "3.7.1"
  }
 },
 "nbformat": 4,
 "nbformat_minor": 4
}
