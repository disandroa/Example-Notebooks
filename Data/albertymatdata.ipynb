{
 "cells": [
  {
   "cell_type": "markdown",
   "metadata": {},
   "source": [
    "# Opening Marion's Matlab Data\n",
    "*Akira Di Sandro, 6/17/20*\n",
    "<br>\n",
    "In this notebook, I will be attempting to open Marion's Matlab data."
   ]
  },
  {
   "cell_type": "code",
   "execution_count": 1,
   "metadata": {},
   "outputs": [
    {
     "data": {
      "text/plain": [
       "array([[ 12.8910476 ,   8.80225101,   3.24539391, ..., -15.31352036,\n",
       "        -15.81317072, -17.28754596],\n",
       "       [ 21.77884806,  17.46987603,  11.75784242, ..., -17.50965172,\n",
       "        -18.65539456, -20.78547744],\n",
       "       [ 12.24026379,   8.17920844,   2.67485032, ..., -15.6834721 ,\n",
       "        -16.1108303 , -17.51657994],\n",
       "       ...,\n",
       "       [ 17.78711661,  17.88455211,  17.67870195, ...,  -0.72206323,\n",
       "         -0.53728163,  -1.34906715],\n",
       "       [ 16.91770926,  16.88031202,  16.47249658, ...,  -0.89074091,\n",
       "         -0.59365906,  -1.29448722],\n",
       "       [ 19.8823394 ,  20.00640239,  19.80353349, ...,  -1.08937145,\n",
       "         -0.81891942,  -1.52829754]])"
      ]
     },
     "execution_count": 1,
     "metadata": {},
     "output_type": "execute_result"
    }
   ],
   "source": [
    "#!python\n",
    "#!/usr/bin/env python\n",
    "from scipy.io import loadmat\n",
    "x = loadmat('allTransport_SolomonStrait.mat')\n",
    "x['T']\n",
    "# one-liner to read a single variable\n",
    "#lon = loadmat('test.mat')['lon']"
   ]
  },
  {
   "cell_type": "code",
   "execution_count": null,
   "metadata": {},
   "outputs": [],
   "source": []
  }
 ],
 "metadata": {
  "kernelspec": {
   "display_name": "Python 3",
   "language": "python",
   "name": "python3"
  },
  "language_info": {
   "codemirror_mode": {
    "name": "ipython",
    "version": 3
   },
   "file_extension": ".py",
   "mimetype": "text/x-python",
   "name": "python",
   "nbconvert_exporter": "python",
   "pygments_lexer": "ipython3",
   "version": "3.7.3"
  }
 },
 "nbformat": 4,
 "nbformat_minor": 4
}
