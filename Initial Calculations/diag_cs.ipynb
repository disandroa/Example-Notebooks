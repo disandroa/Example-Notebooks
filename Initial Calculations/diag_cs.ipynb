{
 "cells": [
  {
   "cell_type": "markdown",
   "metadata": {},
   "source": [
    "# Making a Diagonal Cross-Section of the Solomon Sea \n",
    "*Akira Di Sandro, 6/16/20*\n",
    "<br>\n",
    "In this notebook, I will be attempting to make a diagonal cross-section of the Solomon Sea as I want to be able to make one of the Solomon Strait to calculate transport there."
   ]
  },
  {
   "cell_type": "code",
   "execution_count": null,
   "metadata": {},
   "outputs": [],
   "source": []
  }
 ],
 "metadata": {
  "kernelspec": {
   "display_name": "Python 3",
   "language": "python",
   "name": "python3"
  },
  "language_info": {
   "codemirror_mode": {
    "name": "ipython",
    "version": 3
   },
   "file_extension": ".py",
   "mimetype": "text/x-python",
   "name": "python",
   "nbconvert_exporter": "python",
   "pygments_lexer": "ipython3",
   "version": "3.7.3"
  }
 },
 "nbformat": 4,
 "nbformat_minor": 4
}
