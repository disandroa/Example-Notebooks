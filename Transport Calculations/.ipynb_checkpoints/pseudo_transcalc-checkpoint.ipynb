{
 "cells": [
  {
   "cell_type": "markdown",
   "metadata": {},
   "source": [
    "# Transport Calculations (attempt #1)\n",
    "*Akira Di Sandro, 6/22/20*\n",
    "<br> In this notebook, I will be making some pseudocode for transport calculations."
   ]
  },
  {
   "cell_type": "markdown",
   "metadata": {},
   "source": [
    "## 1. Import Packages as usual"
   ]
  },
  {
   "cell_type": "code",
   "execution_count": null,
   "metadata": {},
   "outputs": [],
   "source": [
    "import warnings\n",
    "warnings.filterwarnings(\"ignore\")"
   ]
  },
  {
   "cell_type": "code",
   "execution_count": null,
   "metadata": {},
   "outputs": [],
   "source": [
    "import xarray as xr\n",
    "xr.set_options(display_style='html')\n",
    "import intake\n",
    "%matplotlib inline\n",
    "import cartopy.crs as ccrs\n",
    "import matplotlib.pyplot as plt\n",
    "import numpy as np"
   ]
  },
  {
   "cell_type": "markdown",
   "metadata": {},
   "source": [
    "## 2. Open Dataset"
   ]
  },
  {
   "cell_type": "code",
   "execution_count": null,
   "metadata": {},
   "outputs": [],
   "source": [
    "cat_url = \"https://storage.googleapis.com/cmip6/pangeo-cmip6.json\"\n",
    "col = intake.open_esm_datastore(cat_url)"
   ]
  },
  {
   "cell_type": "code",
   "execution_count": null,
   "metadata": {},
   "outputs": [],
   "source": [
    "dog = col.search(source_id='GFDL-CM4', experiment_id='historical', table_id='Omon', variable_id=['uo','vo','wo'], grid_label='gn')"
   ]
  },
  {
   "cell_type": "markdown",
   "metadata": {},
   "source": [
    "* I think for the line above, I will need to find and download the CM4 dataset that I've been using but with a mask variable (look for it using variable) in order to do the transport calculations."
   ]
  },
  {
   "cell_type": "code",
   "execution_count": null,
   "metadata": {},
   "outputs": [],
   "source": [
    "dset_dict = dog.to_dataset_dict(zarr_kwargs={'consolidated': True})\n",
    "list(dset_dict.keys())"
   ]
  },
  {
   "cell_type": "code",
   "execution_count": null,
   "metadata": {},
   "outputs": [],
   "source": [
    "grid = dset_dict['CMIP.NOAA-GFDL.GFDL-CM4.historical.Omon.gn']\n",
    "grid"
   ]
  },
  {
   "cell_type": "markdown",
   "metadata": {},
   "source": [
    "* The above two lines will also be dependent on the change in line 4."
   ]
  },
  {
   "cell_type": "markdown",
   "metadata": {},
   "source": [
    "## 3. Open Cluster "
   ]
  },
  {
   "cell_type": "code",
   "execution_count": null,
   "metadata": {},
   "outputs": [],
   "source": [
    "from dask.distributed import Client\n",
    "from dask_gateway import Gateway\n",
    "\n",
    "\n",
    "gateway = Gateway()  # connect to Gateway\n",
    "\n",
    "cluster = gateway.new_cluster()  # create cluster\n",
    "cluster.scale(10)  # scale cluster\n",
    "\n",
    "client = Client(cluster)  # connect Client to Cluster"
   ]
  },
  {
   "cell_type": "code",
   "execution_count": null,
   "metadata": {},
   "outputs": [],
   "source": [
    "client"
   ]
  },
  {
   "cell_type": "markdown",
   "metadata": {},
   "source": [
    "## 4. Actual Calculations"
   ]
  },
  {
   "cell_type": "markdown",
   "metadata": {},
   "source": [
    "### a. Calculations to get the U/V points"
   ]
  },
  {
   "cell_type": "code",
   "execution_count": null,
   "metadata": {},
   "outputs": [],
   "source": [
    "lat1 = -4.49531\n",
    "lon1 = -208.21236\n",
    "lat2 = -5.989064\n",
    "lon2 = -205.234668"
   ]
  },
  {
   "cell_type": "code",
   "execution_count": null,
   "metadata": {},
   "outputs": [],
   "source": [
    "isec, jsec, xsec, ysec = sectionate.create_section(grid['lon'], grid['lat'], lon1, lat1, lon2, lat2)"
   ]
  },
  {
   "cell_type": "code",
   "execution_count": null,
   "metadata": {},
   "outputs": [],
   "source": [
    "uvpoints = sectionate.transports_C.MOM6_UVpoints_from_section(isec, jsec)\n",
    "udata = []\n",
    "vdata = []\n",
    "\n",
    "for point in uvpoints:\n",
    "    pttype, i, j = point\n",
    "    i = int(i)\n",
    "    j = int(j)\n",
    "    if pttype == 'U':\n",
    "        lon = grid['lon'].isel(x=i, y=j).values\n",
    "        lat = grid['lat'].isel(x=i, y=j).values    \n",
    "    udata = np.concatenate([udata, [i, j, lon, lat]], axis=1)  #this line needs to be tested out\n",
    "    elif pttype == 'V':\n",
    "        lon = grid['lon'].isel(x=i, y=j).values\n",
    "        lat = grid['lat'].isel(x=i, y=j).values\n",
    "    vdata = np.concatenate([vdata, [i, j, lon, lat]], axis=1)  #this line needs to be tested out\n",
    "#    print(f'{point[0]}, {point[1]}, {point[2]}, {lon}, {lat}')"
   ]
  },
  {
   "cell_type": "raw",
   "metadata": {},
   "source": [
    "udata should be a 4-by-uvpoints that are u, matrix-like dataset that stores the i and j values and the corresponding longitude and latitude values for the grid point for which we care about the u point.\n",
    "udata = [[i values],\n",
    "         [j values],\n",
    "         [lon],\n",
    "         [lat]      ]\n",
    "         \n",
    "vdata should be a 4-by-uvpoints that are v, matrix-like dataset that stores the i and j values and the corresponding longitude and latitude values for the grid point for which we care about the v point.\n",
    "vdata = [[i values],\n",
    "         [j values],\n",
    "         [lon],\n",
    "         [lat]      ]"
   ]
  },
  {
   "cell_type": "markdown",
   "metadata": {},
   "source": [
    "### b. Using U/V points to calculate transport\n",
    "The following are the steps I cam eup with to do the calculation. <br>\n",
    "* (transport for each cell) T = u * SA (of cell face) * mask\n",
    "* SA = dy (vertical distance of cell) * depth of cell\n",
    "* Mask = fraction that tells us how much of the cell is in water (mostly 1 but for the edges, it will be some fraction<1)\n",
    "* Do this calculation for all depths of (i,j) cell and summate\n"
   ]
  },
  {
   "cell_type": "code",
   "execution_count": null,
   "metadata": {},
   "outputs": [],
   "source": [
    "# surface area of y face\n",
    "    # assuming dy is the length of the cell on the y side and dz is the depth\n",
    "say = dy * dz\n",
    "\n",
    "# General equation for Transport\n",
    "transu = u * say * mask\n"
   ]
  },
  {
   "cell_type": "code",
   "execution_count": null,
   "metadata": {},
   "outputs": [],
   "source": [
    "# surface area of x face\n",
    "    # assuming dx is the length of the cell on the x side and dz is the depth\n",
    "sax = dx * dz\n",
    "\n",
    "# General equation for Transport\n",
    "transv = v * sax * mask\n"
   ]
  }
 ],
 "metadata": {
  "kernelspec": {
   "display_name": "Python 3",
   "language": "python",
   "name": "python3"
  },
  "language_info": {
   "codemirror_mode": {
    "name": "ipython",
    "version": 3
   },
   "file_extension": ".py",
   "mimetype": "text/x-python",
   "name": "python",
   "nbconvert_exporter": "python",
   "pygments_lexer": "ipython3",
   "version": "3.7.1"
  }
 },
 "nbformat": 4,
 "nbformat_minor": 2
}
